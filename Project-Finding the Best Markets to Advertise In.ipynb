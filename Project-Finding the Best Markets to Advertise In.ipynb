{
 "cells": [
  {
   "cell_type": "markdown",
   "metadata": {},
   "source": [
    "Let's assume that we're working for an an e-learning company that offers courses on programming. Most of our courses are on web and mobile development, but we also cover many other domains, like data science, game development, etc. We want to promote our product and we'd like to invest some money in advertisement. Our goal in this project is to find out the two best markets to advertise our product in.\n",
    "\n",
    "[solution notebook](https://github.com/dataquestio/solutions/blob/master/Mission449Solutions.Rmd)."
   ]
  },
  {
   "cell_type": "markdown",
   "metadata": {},
   "source": [
    "We can try to search existing data that might be relevant for our purpose. One good candidate is the data from [freeCodeCamp's 2017 New Coder Survey](https://www.freecodecamp.org/news/we-asked-20-000-people-who-they-are-and-how-theyre-learning-to-code-fff5d668969/). freeCodeCamp is a free e-learning platform that offers courses on web development. Because they run [a popular Medium publication](https://www.freecodecamp.org/news/) (over 400,000 followers), their survey attracted new coders with varying interests (not only web development), which is ideal for the purpose of our analysis.\n",
    "\n",
    "The survey data is publicly available in [this GitHub repository](https://github.com/freeCodeCamp/2017-new-coder-survey)."
   ]
  },
  {
   "cell_type": "markdown",
   "metadata": {},
   "source": [
    "As we mentioned earlier, most of the courses we offer are on web and mobile development, but we also cover many other domains, like data science, game development, etc. For the purpose of our analysis, we want to answer questions about a population of new coders that are interested in the subjects we teach. We'd like to know:\n",
    "\n",
    "* Where are these new coders located.\n",
    "* What are the locations with the greatest number of new coders.\n",
    "* How much money new coders are willing to spend on learning.\n",
    "\n",
    "Before starting to analyze the sample data we have, we need to clarify whether it's representative for our population of interest and it has the right categories of people for our purpose."
   ]
  },
  {
   "cell_type": "markdown",
   "metadata": {},
   "source": [
    "Now that we found out that the sample has the right categories of people for our purpose, we can begin analyzing it. We can start with finding out where these new coders are located, and what are the densities (how many coderes there are) for each location.\n",
    "\n",
    "The data set provides information about the location of each participant at a country level. The `CountryCitizen` variable describes the country of origin for each participant, and the `CountryLive` variable describes what country each participants lives in (which may be different than the origin country).\n",
    "\n",
    "For our analysis, we'll work with the `CountryLive` variable because we're interested where people actually live at the moment when we run the ads. In other words, we're interested where people are located, not where they were born.\n",
    "\n",
    "Because the data set provides information at a country level, we can think of each country as an individual market. This means we can frame our goal as finding the two best countries to advertise in.\n",
    "\n",
    "One indicator of a good market is the number of potential customers — the more potential customers in a market, the better. If our ads manage to convince 10% of the 5,000 potential customers in market A to buy our product, then this is better than convincing 100% of the 30 potential customers in market B."
   ]
  },
  {
   "cell_type": "markdown",
   "metadata": {},
   "source": [
    "Previously, we found useful information about the location of new coders, and what are the countries where new coders live, but we need to go more in depth with our analysis before taking a decision. We can continue by figuring out how much money new coders are actually willing to spend on learning. Advertising within markets where most people are only willing to learn for free is extremely unlikely to be profitable for us.\n",
    "\n",
    "The `MoneyForLearning` column describes in American dollars the amount of money spent by participants from the moment they started coding until the moment they completed the survey. Our company sells subscriptions at a price of $59 per month, and for this reason we're interested in finding out how much money each student spends per month.\n",
    "\n",
    "It also seems like a good idea to narrow down our analysis to only four countries: the US, India, the United Kingdom, and Canada. Two reasons for this decision are:\n",
    "\n",
    "* These are the countries having the highest absolute frequencies in our sample, which means we have a decent amount of data for each.\n",
    "* Our courses are written in English, and English is an official language in all these four countries. The more people that know English, the better our chances to target the right people with our ads."
   ]
  },
  {
   "attachments": {
    "image.png": {
     "image/png": "[encoded data removed]"
    }
   },
   "cell_type": "markdown",
   "metadata": {},
   "source": [
    "We have arrived at the following mean values:\n",
    "\n",
    "![image.png](attachment:image.png)"
   ]
  },
  {
   "cell_type": "markdown",
   "metadata": {},
   "source": [
    "The results for the United Kingdom and Canada are surprisingly low relative to the values we see for India. If we considered a few socio-economical metrics (like `GDP per capita`), we'd intuitively expect people in the UK and Canada to spend more on learning than people in India.\n",
    "\n",
    "It might be that we don't have have enough representative data for the United Kingdom, Canada, and India, or we have some outliers (maybe coming from wrong survey answers) making the mean too big for India, or too low for the UK and Canada. Or it might be that the results are correct."
   ]
  },
  {
   "attachments": {
    "image.png": {
     "image/png": "[encoded data removed]"
    }
   },
   "cell_type": "markdown",
   "metadata": {},
   "source": [
    "After eliminating the extreme outliers, we found the following mean values:\n",
    "\n",
    "![image.png](attachment:image.png)\n",
    "\n",
    "\n",
    "There's not only one solution in this case, and we might have found solid arguments to take different decisions with respect to eliminating some of the outliers. \n",
    "\n",
    "Considering the results we've found so far, one country we should definitely advertise in is the **US**. There are a lot of new coders living there and they are willing to pay a good amount of money each month.\n",
    "\n",
    "We need to choose one more market though."
   ]
  },
  {
   "cell_type": "markdown",
   "metadata": {},
   "source": [
    "In this project, we analyzed survey data from new coders to find the best two markets to advertise in. The only solid conclusion we reached is that the US would be a good market to advertise in.\n",
    "\n",
    "For the second best market, it wasn't clear-cut what to choose between India and Canada. We decided to send the results to the marketing team so they can use their domain knowledge to take the best decision.\n",
    "\n",
    "We might have reached different conclusions, which is totally fine, as long as we constructed a sound reasoning for those conclusions. "
   ]
  },
  {
   "cell_type": "markdown",
   "metadata": {},
   "source": [
    "We can also continue working on this project. Next steps include:\n",
    "\n",
    "* Finding other criteria for choosing the best market.\n",
    "* Analyzing other data sets:\n",
    "    - [freeCodeCamp's 2016 New Coders Survey](https://github.com/freeCodeCamp/2016-new-coder-survey).\n",
    "    - [Stack Overflow 2018 Developer Survey](https://www.kaggle.com/stackoverflow/stack-overflow-2018-developer-survey).\n",
    "    \n",
    "* Improving our project from a stylistical point of view by following the guidelines discussed [in this style guide](https://www.dataquest.io/blog/data-science-project-style-guide/)."
   ]
  },
  {
   "cell_type": "markdown",
   "metadata": {},
   "source": [
    "# Solution"
   ]
  },
  {
   "cell_type": "markdown",
   "metadata": {},
   "source": [
    "### Finding the Two Best Markets to Advertise in an E-learning Product\n",
    "\n",
    "In this project, we'll aim to find the two best markets to advertise our product in — we're working for an e-learning company that offers courses on programming. Most of our courses are on web and mobile development, but we also cover many other domains, like data science, game development, etc.\n",
    "\n",
    "### Understanding the Data\n",
    "\n",
    "To avoid spending money on organizing a survey, we'll first try to make use of existing data to determine whether we can reach any reliable result.\n",
    "\n",
    "One good candidate for our purpose is [freeCodeCamp's 2017 New Coder Survey](https://medium.freecodecamp.org/we-asked-20-000-people-who-they-are-and-how-theyre-learning-to-code-fff5d668969). [freeCodeCamp](https://www.freecodecamp.org/) is a free e-learning platform that offers courses on web development. Because they run [a popular Medium publication](https://medium.freecodecamp.org/) (over 400,000 followers), their survey attracted new coders with varying interests (not only web development), which is ideal for the purpose of our analysis.\n",
    "\n",
    "The survey data is publicly available in [this GitHub repository](https://github.com/freeCodeCamp/2017-new-coder-survey). Below, we'll do a quick exploration of the `2017-fCC-New-Coders-Survey-Data.csv` file stored in the `clean-data` folder of the repository we just mentioned. We'll read in the file using the direct link [here](https://raw.githubusercontent.com/freeCodeCamp/2017-new-coder-survey/master/clean-data/2017-fCC-New-Coders-Survey-Data.csv)."
   ]
  },
  {
   "cell_type": "markdown",
   "metadata": {},
   "source": [
    "\n",
    "```{r}\n",
    "library(readr)\n",
    "fcc <- read_csv(\"2017-fCC-New-Coders-Survey-Data.csv\")\n",
    "dim(fcc)\n",
    "head(fcc, 5)\n",
    "```"
   ]
  },
  {
   "cell_type": "markdown",
   "metadata": {},
   "source": [
    "### Checking for Sample Representativity\n",
    "\n",
    "As we mentioned in the introduction, most of our courses are on web and mobile development, but we also cover many other domains, like data science, game development, etc. For the purpose of our analysis, we want to answer questions about a population of new coders that are interested in the subjects we teach. We'd like to know:\n",
    "\n",
    "* Where are these new coders located.\n",
    "* What locations have the greatest densities of new coders.\n",
    "* How much money they're willing to spend on learning.\n",
    "\n",
    "So we first need to clarify whether the data set has the right categories of people for our purpose. The `JobRoleInterest` column describes for every participant the role(s) they'd be interested in working in. If a participant is interested in working in a certain domain, it means that they're also interested in learning about that domain. So let's take a look at the frequency distribution table of this column [^1] and determine whether the data we have is relevant.\n",
    "\n"
   ]
  },
  {
   "cell_type": "markdown",
   "metadata": {},
   "source": [
    "```{r}\n",
    "#split-and-combine workflow\n",
    "library(dplyr)\n",
    "fcc %>%\n",
    "  group_by(JobRoleInterest) %>%\n",
    "  summarise(freq = n()*100/nrow(fcc)) %>%\n",
    "  arrange(desc(freq))\n",
    "```"
   ]
  },
  {
   "cell_type": "markdown",
   "metadata": {},
   "source": [
    "The information in the table above is quite granular, but from a quick scan it looks like:\n",
    "\n",
    "* A lot of people are interested in web development (full-stack _web development_, front-end _web development_ and back-end _web development_).\n",
    "* A few people are interested in mobile development.\n",
    "* A few people are interested in domains other than web and mobile development.\n",
    "\n",
    "It's also interesting to note that many respondents are interested in more than one subject. It'd be useful to get a better picture of how many people are interested in a single subject and how many have mixed interests. Consequently, in the next code block, we'll:\n",
    "\n",
    "- Split each string in the `JobRoleInterest` column to find the number of options for each participant.\n",
    "    - We'll first drop the NA values [^2] because we cannot split NA values.\n",
    "- Generate a frequency table for the variable describing the number of options [^3]."
   ]
  },
  {
   "cell_type": "markdown",
   "metadata": {},
   "source": [
    "```{r}\n",
    "# Split each string in the 'JobRoleInterest' column\n",
    "splitted_interests <- fcc %>%\n",
    "  select(JobRoleInterest) %>%\n",
    "  tidyr::drop_na() %>%\n",
    "  rowwise %>% #Tidyverse actually makes by default operation over columns, rowwise changes this behavior.\n",
    "  mutate(opts = length(stringr::str_split(JobRoleInterest, \",\")[[1]]))\n",
    "  \n",
    "# Frequency table for the var describing the number of options\n",
    "n_of_options <- splitted_interests %>%\n",
    "  ungroup() %>%  #this is needeed because we used the rowwise() function before\n",
    "  group_by(opts) %>%\n",
    "  summarize(freq = n()*100/nrow(splitted_interests))\n",
    "  \n",
    "n_of_options\n",
    "```"
   ]
  },
  {
   "cell_type": "markdown",
   "metadata": {},
   "source": [
    "It turns out that only 31.65% of the participants have a clear idea about what programming niche they'd like to work in, while the vast majority of students have mixed interests. But given that we offer courses on various subjects, the fact that new coders have mixed interest might be actually good for us.\n",
    "\n",
    "The focus of our courses is on web and mobile development, so let's find out how many respondents chose at least one of these two options."
   ]
  },
  {
   "cell_type": "markdown",
   "metadata": {},
   "source": [
    "```{r}\n",
    "# Frequency table (we can also use split-and-combine) \n",
    "web_or_mobile <- stringr::str_detect(fcc$JobRoleInterest, \"Web Developer|Mobile Developer\")\n",
    "freq_table <- table(web_or_mobile)\n",
    "\n",
    "freq_table <- freq_table * 100 / sum(freq_table)\n",
    "\n",
    "freq_table\n",
    "\n",
    "# Graph for the frequency table above\n",
    "\n",
    "df <- tibble::tibble(x = c(\"Other Subject\",\"Web or Mobile Developpement\"),\n",
    "                       y = freq_table)\n",
    "library(ggplot2)\n",
    "ggplot(data = df, aes(x = x, y = y, fill = x)) +\n",
    "  geom_histogram(stat = \"identity\")\n",
    "```"
   ]
  },
  {
   "cell_type": "markdown",
   "metadata": {},
   "source": [
    "It turns out that most people in this survey (roughly 86%) are interested in either web or mobile development. These figures offer us a strong reason to consider this sample representative for our population of interest. We want to advertise our courses to people interested in all sorts of programming niches but mostly web and mobile development.\n",
    "\n",
    "Now we need to figure out what are the best markets to invest money in for advertising our courses. We'd like to know:\n",
    "\n",
    "* Where are these new coders located.\n",
    "* What are the locations with the greatest number of new coders.\n",
    "* How much money new coders are willing to spend on learning.\n",
    "\n",
    "### New Coders - Locations and Densities\n",
    "\n",
    "Let's begin with finding out where these new coders are located, and what are the densities (how many new coders there are) for each location. This should be a good start for finding out the best two markets to run our ads campaign in.\n",
    "\n",
    "The data set provides information about the location of each participant at a country level. We can think of each country as an individual market, so we can frame our goal as finding the two best countries to advertise in.\n",
    "\n",
    "We can start by examining the frequency distribution table of the `CountryLive` variable, which describes what country each participant lives in (not their origin country). We'll only consider those participants who answered what role(s) they're interested in, to make sure we work with a representative sample.\n",
    "\n"
   ]
  },
  {
   "cell_type": "markdown",
   "metadata": {},
   "source": [
    "```{r}\n",
    "# Isolate the participants that answered what role they'd be interested in\n",
    "\n",
    "fcc_good <- fcc %>%\n",
    "  tidyr::drop_na(JobRoleInterest) \n",
    "  \n",
    "# Frequency tables with absolute and relative frequencies\n",
    "# Display the frequency tables in a more readable format\n",
    "\n",
    "fcc_good %>%\n",
    "group_by(CountryLive) %>%\n",
    "summarise(`Absolute frequency` = n(),\n",
    "          `Percentage` = n() * 100 /  nrow(fcc_good) ) %>%\n",
    "  arrange(desc(Percentage))\n",
    "```"
   ]
  },
  {
   "cell_type": "markdown",
   "metadata": {},
   "source": [
    "44.69% of our potential customers are located in the US, and this definitely seems like the most interesting market. India has the second customer density, but it's just 7.55%, which is not too far from the United Kingdom (4.50%) or Canada (3.71%).\n",
    "\n",
    "This is useful information, but we need to go more in depth than this and figure out how much money people are actually willing to spend on learning. Advertising in high-density markets where most people are only willing to learn for free is extremely unlikely to be profitable for us.\n",
    "\n",
    "### Spending Money for Learning\n",
    "\n",
    "The `MoneyForLearning` column describes in American dollars the amount of money spent by participants from the moment they started coding until the moment they completed the survey. Our company sells subscriptions at a price of \\$59 per month, and for this reason we're interested in finding out how much money each student spends per month.\n",
    "\n",
    "We'll narrow down our analysis to only four countries: the US, India, the United Kingdom, and Canada. We do this for two reasons:\n",
    "\n",
    "* These are the countries having the highest frequency in the frequency table above, which means we have a decent amount of data for each.\n",
    "* Our courses are written in English, and English is an official language in all these four countries. The more people know English, the better our chances to target the right people with our ads.\n",
    "\n",
    "Let's start with creating a new column that describes the amount of money a student has spent per month so far. To do that, we'll need to divide the `MoneyForLearning` column to the `MonthsProgramming` column. The problem is that some students answered that they have been learning to code for 0 months (it might be that they have just started). To avoid dividing by 0, we'll replace 0 with 1 in the `MonthsProgramming` column.\n",
    "\n"
   ]
  },
  {
   "cell_type": "markdown",
   "metadata": {},
   "source": [
    "```{r}\n",
    "# Replace 0s with 1s to avoid division by 0\n",
    "fcc_good <- fcc_good %>%\n",
    "  mutate(MonthsProgramming = replace(MonthsProgramming,  MonthsProgramming == 0, 1) )\n",
    "  \n",
    "# New column for the amount of money each student spends each month\n",
    "fcc_good <- fcc_good %>%\n",
    "  mutate(money_per_month = MoneyForLearning/MonthsProgramming) \n",
    "  \n",
    "fcc_good %>%\n",
    "  summarise(na_count = sum(is.na(money_per_month)) ) %>%\n",
    "  pull(na_count)\n",
    "```"
   ]
  },
  {
   "cell_type": "markdown",
   "metadata": {},
   "source": [
    "Let's keep only the rows that don't have NA values for the `money_per_month` column."
   ]
  },
  {
   "cell_type": "markdown",
   "metadata": {},
   "source": [
    "```{r}\n",
    "# Keep only the rows with non-NAs in the `money_per_month` column \n",
    "\n",
    "fcc_good  <-  fcc_good %>% tidyr::drop_na(money_per_month)\n",
    "```"
   ]
  },
  {
   "cell_type": "markdown",
   "metadata": {},
   "source": [
    "We want to group the data by country, and then measure the average amount of money that students spend per month in each country. First, let's remove the rows having `NA` values for the `CountryLive` column, and check out if we still have enough data for the four countries that interest us.\n"
   ]
  },
  {
   "cell_type": "markdown",
   "metadata": {},
   "source": [
    "```{r}\n",
    "# Remove the rows with NA values in 'CountryLive'\n",
    "fcc_good  <-  fcc_good %>% tidyr::drop_na(CountryLive)\n",
    "        \n",
    "# Frequency table to check if we still have enough data\n",
    "fcc_good %>% group_by(CountryLive) %>%\n",
    "  summarise(freq = n() ) %>%\n",
    "  arrange(desc(freq)) %>%\n",
    "  head()\n",
    "```"
   ]
  },
  {
   "cell_type": "markdown",
   "metadata": {},
   "source": [
    "This should be enough, so let's compute the average value spent per month in each country by a student. We'll compute the average using the mean."
   ]
  },
  {
   "cell_type": "markdown",
   "metadata": {},
   "source": [
    "```{r}\n",
    "# Mean sum of money spent by students each month\n",
    "countries_mean  <-  fcc_good %>% \n",
    "  filter(CountryLive == 'United States of America' | CountryLive == 'India' | CountryLive == 'United Kingdom'|CountryLive == 'Canada') %>%\n",
    "  group_by(CountryLive) %>%\n",
    "  summarize(mean = mean(money_per_month)) %>%\n",
    "  arrange(desc(mean))\n",
    "  \n",
    "countries_mean\n",
    "```\n"
   ]
  },
  {
   "cell_type": "markdown",
   "metadata": {},
   "source": [
    "The results for the United Kingdom and Canada are a bit surprising relative to the values we see for India. If we considered a few socio-economical metrics (like [GDP per capita](https://bit.ly/2I3cukh)), we'd intuitively expect people in the UK and Canada to spend more on learning than people in India.\n",
    "\n",
    "It might be that we don't have have enough representative data for the United Kingdom and Canada, or we have some outliers (maybe coming from wrong survey answers) making the mean too large for India, or too low for the UK and Canada. Or it might be that the results are correct.\n",
    "\n",
    "### Dealing with Extreme Outliers\n",
    "\n",
    "Let's use box plots to visualize the distribution of the `money_per_month` variable for each country."
   ]
  },
  {
   "cell_type": "markdown",
   "metadata": {},
   "source": [
    "```{r}\n",
    "# Isolate only the countries of interest\n",
    "only_4  <-  fcc_good %>% \n",
    "  filter(CountryLive == 'United States of America'\n",
    "         | CountryLive == 'India' | CountryLive == 'United Kingdom'|CountryLive == 'Canada')\n",
    "    \n",
    "# Since maybe, we will remove elements from the database, \n",
    "# we add an index column containing the number of each row. \n",
    "# Hence, we will have a match with the original database in case of some indexes.\n",
    "\n",
    "only_4 <- only_4 %>%\n",
    "  mutate(index = row_number())\n",
    "    \n",
    "# Box plots to visualize distributions\n",
    "\n",
    "ggplot( data = only_4, aes(x = CountryLive, y = money_per_month)) +\n",
    "  geom_boxplot() +\n",
    "  ggtitle(\"Money Spent Per Month Per Country\\n(Distributions)\") +\n",
    "  xlab(\"Country\") +\n",
    "  ylab(\"Money per month (US dollars)\") +\n",
    "  theme_bw()\n",
    "```"
   ]
  },
  {
   "cell_type": "markdown",
   "metadata": {},
   "source": [
    "It's hard to see on the plot above if there's anything wrong with the data for the United Kingdom, India, or Canada, but we can see immediately that there's something really off for the US: two persons spend each month `$50,000` or more for learning. This is not impossible, but it seems extremely unlikely, so we'll remove every value that goes over `$20,000` per month.\n"
   ]
  },
  {
   "cell_type": "markdown",
   "metadata": {},
   "source": [
    "```{r}\n",
    "# Isolate only those participants who spend less than 10,000 per month\n",
    "\n",
    "fcc_good  <- fcc_good %>% \n",
    "  filter(money_per_month < 20000)\n",
    "```\n"
   ]
  },
  {
   "cell_type": "markdown",
   "metadata": {},
   "source": [
    "Now let's recompute the mean values and plot the box plots again.\n"
   ]
  },
  {
   "cell_type": "markdown",
   "metadata": {},
   "source": [
    "```{r}\n",
    "# Mean sum of money spent by students each month\n",
    "\n",
    "countries_mean = fcc_good %>% \n",
    "  filter(CountryLive == 'United States of America' | CountryLive == 'India' | CountryLive == 'United Kingdom'|CountryLive == 'Canada') %>%\n",
    "  group_by(CountryLive) %>%\n",
    "  summarize(mean = mean(money_per_month)) %>%\n",
    "  arrange(desc(mean))\n",
    "  \n",
    "countries_mean\n",
    "```"
   ]
  },
  {
   "cell_type": "markdown",
   "metadata": {},
   "source": [
    "```{r}\n",
    "# Isolate only the countries of interest\n",
    "only_4  <-  fcc_good %>% \n",
    "  filter(CountryLive == 'United States of America' | CountryLive == 'India' | CountryLive == 'United Kingdom'|CountryLive == 'Canada') %>%\n",
    "  mutate(index = row_number())\n",
    "\n",
    "# Box plots to visualize distributions\n",
    "ggplot( data = only_4, aes(x = CountryLive, y = money_per_month)) +\n",
    "  geom_boxplot() +\n",
    "  ggtitle(\"Money Spent Per Month Per Country\\n(Distributions)\") +\n",
    "  xlab(\"Country\") +\n",
    "  ylab(\"Money per month (US dollars)\") +\n",
    "  theme_bw()\n",
    "```"
   ]
  },
  {
   "cell_type": "markdown",
   "metadata": {},
   "source": [
    "We can see a few extreme outliers for India (values over \\$2,500 per month), but it's unclear whether this is good data or not. Maybe these persons attended several bootcamps, which tend to be very expensive. Let's examine these two data points to see if we can find anything relevant."
   ]
  },
  {
   "cell_type": "markdown",
   "metadata": {},
   "source": [
    "```{r}\n",
    "# Inspect the extreme outliers for India\n",
    "india_outliers  <-  only_4 %>%\n",
    "  filter(CountryLive == 'India' & \n",
    "           money_per_month >= 2500)\n",
    "    \n",
    "india_outliers\n",
    "```"
   ]
  },
  {
   "cell_type": "markdown",
   "metadata": {},
   "source": [
    "It seems that neither participant attended a bootcamp. Overall, it's really hard to figure out from the data whether these persons really spent that much money with learning. The actual question of the survey was _\"Aside from university tuition, about how much money have you spent on learning to code so far (in US dollars)?\"_, so they might have misunderstood and thought university tuition is included. It seems safer to remove these six rows.\n"
   ]
  },
  {
   "cell_type": "markdown",
   "metadata": {},
   "source": [
    "```{r}\n",
    "# Remove the outliers for India\n",
    "only_4 <-  only_4 %>% \n",
    "  filter(!(index %in% india_outliers$index))\n",
    "```"
   ]
  },
  {
   "cell_type": "markdown",
   "metadata": {},
   "source": [
    "Looking back at the box plot above, we can also see more extreme outliers for the US (values over \\$6,000 per month). Let's examine these participants in more detail."
   ]
  },
  {
   "cell_type": "markdown",
   "metadata": {},
   "source": [
    "```{r}\n",
    "# Examine the extreme outliers for the US\n",
    "us_outliers = only_4 %>%\n",
    "  filter(CountryLive == 'United States of America' & \n",
    "           money_per_month >= 6000)\n",
    "    \n",
    "us_outliers\n",
    "\n",
    "only_4  <-  only_4 %>% \n",
    "  filter(!(index %in% us_outliers$index))\n",
    "```"
   ]
  },
  {
   "cell_type": "markdown",
   "metadata": {},
   "source": [
    "Out of these 11 extreme outliers, six people attended bootcamps, which justify the large sums of money spent on learning. For the other five, it's hard to figure out from the data where they could have spent that much money on learning. Consequently, we'll remove those rows where participants reported thay they spend \\$6,000 each month, but they have never attended a bootcamp.\n",
    "\n",
    "Also, the data shows that eight respondents had been programming for no more than three months when they completed the survey. They most likely paid a large sum of money for a bootcamp that was going to last for several months, so the amount of money spent per month is unrealistic and should be significantly lower (because they probably didn't spend anything for the next couple of months after the survey). As a consequence, we'll remove every these eight outliers.\n",
    "\n",
    "In the next code block, we'll remove respondents that:\n",
    "\n",
    "- Didn't attend bootcamps.\n",
    "- Had been programming for three months or less when at the time they completed the survey.\n"
   ]
  },
  {
   "cell_type": "markdown",
   "metadata": {},
   "source": [
    "```{r}\n",
    "# Remove the respondents who didn't attendent a bootcamp\n",
    "no_bootcamp = only_4 %>%\n",
    "    filter(CountryLive == 'United States of America' & \n",
    "           money_per_month >= 6000 &\n",
    "             AttendedBootcamp == 0)\n",
    "    \n",
    "only_4_  <-  only_4 %>% \n",
    "  filter(!(index %in% no_bootcamp$index))\n",
    "    \n",
    "# Remove the respondents that had been programming for less than 3 months\n",
    "less_than_3_months = only_4 %>%\n",
    "    filter(CountryLive == 'United States of America' & \n",
    "           money_per_month >= 6000 &\n",
    "           MonthsProgramming <= 3)\n",
    "    \n",
    "only_4  <-  only_4 %>% \n",
    "  filter(!(index %in% less_than_3_months$index))\n",
    "```"
   ]
  },
  {
   "cell_type": "markdown",
   "metadata": {},
   "source": [
    "Looking again at the last box plot above, we can also see an extreme outlier for Canada — a person who spends roughly \\$5,000 per month. Let's examine this person in more depth.\n",
    "\n",
    "```{r}\n",
    "# Examine the extreme outliers for Canada\n",
    "canada_outliers = only_4 %>%\n",
    "  filter(CountryLive == 'Canada' & \n",
    "           money_per_month >= 4500 &\n",
    "           MonthsProgramming <= 3)\n",
    "    \n",
    "canada_outliers\n",
    "```"
   ]
  },
  {
   "cell_type": "markdown",
   "metadata": {},
   "source": [
    "Here, the situation is similar to some of the US respondents — this participant had been programming for no more than two months when he completed the survey. He seems to have paid a large sum of money in the beginning to enroll in a bootcamp, and then he probably didn't spend anything for the next couple of months after the survey. We'll take the same approach here as for the US and remove this outlier.\n",
    "\n",
    "```{r}\n",
    "# Remove the extreme outliers for Canada\n",
    "only_4  <-  only_4 %>% \n",
    "  filter(!(index %in% canada_outliers$index))\n",
    "```\n",
    "\n",
    "Let's recompute the mean values and generate the final box plots.\n",
    "\n",
    "```{r}\n",
    "# Mean sum of money spent by students each month\n",
    "countries_mean = only_4 %>%\n",
    "  group_by(CountryLive) %>%\n",
    "  summarize(mean = mean(money_per_month)) %>%\n",
    "  arrange(desc(mean))\n",
    "    \n",
    "countries_mean\n",
    "```"
   ]
  },
  {
   "cell_type": "markdown",
   "metadata": {},
   "source": [
    "```{r}\n",
    "# Box plots to visualize distributions\n",
    "ggplot( data = only_4, aes(x = CountryLive, y = money_per_month)) +\n",
    "  geom_boxplot() +\n",
    "  ggtitle(\"Money Spent Per Month Per Country\\n(Distributions)\") +\n",
    "  xlab(\"Country\") +\n",
    "  ylab(\"Money per month (US dollars)\") +\n",
    "  theme_bw()\n",
    "```"
   ]
  },
  {
   "cell_type": "markdown",
   "metadata": {},
   "source": [
    "## Choosing the Two Best Markets\n",
    "\n",
    "Obviously, one country we should advertise in is the US. Lots of new coders live there and they are willing to pay a good amount of money each month (roughly \\$143).\n",
    "\n",
    "We sell subscriptions at a price of `$59` per month, and Canada seems to be the best second choice because people there are willing to pay roughly `$93` per month, compared to India (`$66`) and the United Kingdom (`$45`).\n",
    "\n",
    "The data suggests strongly that we shouldn't advertise in the UK, but let's take a second look at India before deciding to choose Canada as our second best choice:\n",
    "\n",
    "* `$59` doesn't seem like an expensive sum for people in India since they spend on average \\$66 each month.\n",
    "* We have almost twice as more potential customers in India than we have in Canada:"
   ]
  },
  {
   "cell_type": "markdown",
   "metadata": {},
   "source": [
    "```{r}\n",
    "# Frequency table for the 'CountryLive' column\n",
    "only_4 %>% group_by(CountryLive) %>%\n",
    "  summarise(freq = n() * 100 / nrow(only_4) ) %>%\n",
    "  arrange(desc(freq)) %>%\n",
    "  head()\n",
    "```\n",
    "\n",
    "```{r}\n",
    "# Frequency table to check if we still have enough data\n",
    "only_4 %>% group_by(CountryLive) %>%\n",
    "  summarise(freq = n() ) %>%\n",
    "  arrange(desc(freq)) %>%\n",
    "  head()\n",
    "```\n"
   ]
  },
  {
   "cell_type": "markdown",
   "metadata": {},
   "source": [
    "So it's not crystal clear what to choose between Canada and India. Although it seems more tempting to choose Canada, there are good chances that India might actually be a better choice because of the large number of potential customers.\n",
    "\n",
    "At this point, it seems that we have several options:\n",
    "\n",
    "1. Advertise in the US, India, and Canada by splitting the advertisement budget in various combinations:\n",
    "    - 60% for the US, 25% for India, 15% for Canada.\n",
    "    - 50% for the US, 30% for India, 20% for Canada; etc.\n",
    "\n",
    "2. Advertise only in the US and India, or the US and Canada. Again, it makes sense to split the advertisement budget unequally. For instance:\n",
    "    - 70% for the US, and 30% for India.\n",
    "    - 65% for the US, and 35% for Canada; etc.\n",
    "\n",
    "3. Advertise only in the US.\n",
    "\n",
    "At this point, it's probably best to send our analysis to the marketing team and let them use their domain knowledge to decide. They might want to do some extra surveys in India and Canada and then get back to us for analyzing the new survey data.\n",
    "\n",
    "# Conclusion\n",
    "\n",
    "In this project, we analyzed survey data from new coders to find the best two markets to advertise in. The only solid conclusion we reached is that the US would be a good market to advertise in.\n",
    "\n",
    "For the second best market, it wasn't clear-cut what to choose between India and Canada. We decided to send the results to the marketing team so they can use their domain knowledge to take the best decision.\n",
    "\n",
    "# Documentation\n",
    "[^1]: We can use the [Split-and-Combine workflow](https://app.dataquest.io/m/339/a/5).\n",
    "\n",
    "[^2]: We can use the [`drop_na()` function](https://app.dataquest.io/m/326/a/6).\n",
    "\n",
    "[^3]: We can use the [`stringr::str_split()` function](https://app.dataquest.io/m/342/a/6)."
   ]
  }
 ],
 "metadata": {
  "kernelspec": {
   "display_name": "Python 3",
   "language": "python",
   "name": "python3"
  },
  "language_info": {
   "codemirror_mode": {
    "name": "ipython",
    "version": 3
   },
   "file_extension": ".py",
   "mimetype": "text/x-python",
   "name": "python",
   "nbconvert_exporter": "python",
   "pygments_lexer": "ipython3",
   "version": "3.7.6"
  }
 },
 "nbformat": 4,
 "nbformat_minor": 4
}
