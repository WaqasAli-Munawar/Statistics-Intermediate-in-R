{
 "cells": [
  {
   "cell_type": "markdown",
   "metadata": {},
   "source": [
    "`library(readr)`\n",
    "\n",
    "`houses  <-  read_tsv('AmesHousing_1.txt', col_types = cols(`Pool QC` = col_character()))`"
   ]
  },
  {
   "cell_type": "markdown",
   "metadata": {},
   "source": [
    "**Task**\n",
    "\n",
    "Create a new dataframe, `sale_price_range`, containing the range of the SalePrice variable for each year of sales.\n",
    "\n",
    "**Answer**\n",
    "\n",
    "`library(dplyr)`\n",
    "\n",
    "`sale_price_range <- houses %>%\n",
    "    group_by(`Yr Sold`) %>%\n",
    "    summarize(range_by_year = max(SalePrice) - min(SalePrice))`\n"
   ]
  },
  {
   "cell_type": "markdown",
   "metadata": {},
   "source": [
    "**Task**\n",
    "\n",
    "* Write a function that takes in a numerical vector and returns the average distance\n",
    "* Compute the average distance for distribution `C`\n",
    "    - `C  <-  c(1,1,1,1,1,1,1,1,1,21)`\n",
    "\n",
    "**Answer**\n",
    "\n",
    "`average_distance <- function(vector) {\n",
    "    distances  <-  vector - mean(vector)\n",
    "    sum(distances) / length(distances)\n",
    "}`\n",
    "\n",
    "`avg_distance  <-  average_distance(C)`"
   ]
  },
  {
   "cell_type": "markdown",
   "metadata": {},
   "source": [
    "**Task**\n",
    "\n",
    "* Create a new function to compute the mean absolute deviation.\n",
    "* Compute the mean absolute deviation of distribution `C`.\n",
    "\n",
    "**Answer**\n",
    "\n",
    "`mean_absolute_deviation <- function(vector) {\n",
    "    distances  <-  abs(vector - mean(vector)) \n",
    "    sum(distances) / length(distances)\n",
    "}`\n",
    "\n",
    "`mad  <-  mean_absolute_deviation(C)`"
   ]
  },
  {
   "cell_type": "markdown",
   "metadata": {},
   "source": [
    "**Task**\n",
    "\n",
    "* Create a new function to compute the variance.\n",
    "* Compute the variance of distribution `C`.\n",
    "\n",
    "**Answer**\n",
    "\n",
    "`variance <- function(vector) {\n",
    "    distances  <-  (vector - mean(vector))**2 \n",
    "    sum(distances) / length(distances)\n",
    "}`\n",
    "\n",
    "`variance_C  <-  variance(C)`"
   ]
  },
  {
   "cell_type": "markdown",
   "metadata": {},
   "source": [
    "**Task**\n",
    "\n",
    "* Create a new function to compute the standard deviation.\n",
    "* Compute the standard deviation of distribution `C`.\n",
    "\n",
    "**Answer**\n",
    "\n",
    "`standard_deviation <- function(vector) {\n",
    "    distances  <-  (vector - mean(vector))**2 \n",
    "    sqrt(sum(distances) / length(distances)) \n",
    "}`\n",
    "\n",
    "`standard_deviation_C  <-  standard_deviation(C)`\n"
   ]
  },
  {
   "cell_type": "markdown",
   "metadata": {},
   "source": [
    "**Task**\n",
    "\n",
    "* Create a new dataframe, `houses_years_std`, containing the standard deviation of the `SalePrice` variable for each year of sales sorted by the standard deviation column.\n",
    "* Find the year with the greatest variability of prices.\n",
    "* Find the year with the lowest variability of prices.\n",
    "\n",
    "**Answer**\n",
    "\n",
    "`# Measure first the variability for each year`\n",
    "\n",
    "`houses_years_std <- houses %>%\n",
    "    group_by(`Yr Sold`) %>%\n",
    "    summarize(st_dev = standard_deviation(SalePrice)) %>%\n",
    "    arrange(st_dev)`\n",
    "\n",
    "`# Get years of max and min variability`\n",
    "\n",
    "`greatest_variability  <-  houses_years_std %>%\n",
    "  filter(st_dev == max(st_dev)) %>% \n",
    "  pull(`Yr Sold`)`\n",
    "\n",
    "`lowest_variability  <-  houses_years_std %>%\n",
    "  filter(st_dev == min(st_dev)) %>% \n",
    "  pull(`Yr Sold`)`"
   ]
  },
  {
   "attachments": {
    "image.png": {
     "image/png": "[encoded data removed]"
    }
   },
   "cell_type": "markdown",
   "metadata": {},
   "source": [
    "**Task**\n",
    "\n",
    "We are taking two samples of 50 sample points each from the distribution of the `Year Built` variable. Examine the graph below. Estimate visually which sample has a bigger spread.\n",
    "\n",
    "`set.seed(10)`\n",
    "\n",
    "`sample1  <-  sample(x = houses$`Year Built`, size = 50)\n",
    "sample2  <-  sample(x = houses$`Year Built`, size = 50)`\n",
    "\n",
    "![image.png](attachment:image.png)\n",
    "\n",
    "\n",
    "**Answer**\n",
    "\n",
    "`bigger_spread  <-  'sample 2'\n",
    "st_dev1  <-  standard_deviation(sample1)\n",
    "st_dev2  <-  standard_deviation(sample2)`"
   ]
  },
  {
   "cell_type": "markdown",
   "metadata": {},
   "source": [
    "**Task**\n",
    "\n",
    "1. Let's consider the data we have for SalePrice a population and sample it 5,000 times. For each of the 5,000 iterations use the `replicate() function`:\n",
    "    - Sample 10 data points from the SalePrice variable using the sample() function.\n",
    "    - Compute the standard deviation of the sample using the `standard_deviation()` function.\n",
    "    \n",
    "2. Convert the `std_points` variable to a tibble\n",
    "3. Generate a histogram\n",
    "\n",
    "**Answer**\n",
    "\n",
    "`library(ggplot2)`\n",
    "\n",
    "`set.seed(1)`\n",
    "\n",
    "\n",
    "`std_points  <-  replicate(n = 5000, expr = standard_deviation(sample(x = houses$SalePrice, size = 10)))`\n",
    "\n",
    "`std_points_tibble <- tibble::tibble(std_points)`\n",
    "\n",
    "`ggplot(data = std_points_tibble, aes(x = std_points)) +\n",
    "    geom_histogram(bins = 10, position = \"identity\") +\n",
    "    geom_vline(aes(xintercept = standard_deviation(houses$SalePrice))) +\n",
    "    xlab(\"Sample standard deviation\") + \n",
    "    ylab(\"Frequency\")`"
   ]
  },
  {
   "cell_type": "markdown",
   "metadata": {},
   "source": [
    "**Task**\n",
    "\n",
    "Modify the code we wrote  by implementing **Bessel's correction**, and generate the histogram again. \n",
    "\n",
    "**Answer**\n",
    "\n",
    "`standard_deviation_bessel_correction <- function(vector) {\n",
    "    distances  <-  (vector - mean(vector))**2 \n",
    "    sqrt(sum(distances) / (length(distances) - 1) )`\n",
    "    \n",
    "`library(ggplot2)`\n",
    "\n",
    "`set.seed(1)`\n",
    "\n",
    "`std_points  <-  replicate(n = 5000, expr = standard_deviation_bessel_correction(sample(x = houses$SalePrice, size = 10)))`\n",
    "\n",
    "`std_points_tibble <- tibble::tibble(std_points)`\n",
    "\n",
    "`ggplot(data = std_points_tibble, aes(x = std_points)) +\n",
    "    geom_histogram(bins = 10, position = \"identity\") +\n",
    "    geom_vline(aes(xintercept = population_stdev)) +\n",
    "    xlab(\"Sample standard deviation\") + \n",
    "    ylab(\"Frequency\")`"
   ]
  },
  {
   "cell_type": "markdown",
   "metadata": {},
   "source": [
    "**Task**\n",
    "\n",
    "1. Compare the result of our standard deviation function and the R base function.\n",
    "2. compare the result of our variance function and the R base function.\n",
    "\n",
    "**Answer**\n",
    "\n",
    "`computed_stdev  <-  standard_deviation_bessel_correction(sample_sales)\n",
    "stdev_r  <-  sd(sample_sales)\n",
    "equal_stdevs  <-  computed_stdev == stdev_r`\n",
    "\n",
    "`computed_var  <-  variance_bessel_correction(sample_sales)\n",
    "var_r  <-  var(sample_sales)\n",
    "equal_vars  <-  computed_var == var_r`"
   ]
  },
  {
   "cell_type": "markdown",
   "metadata": {},
   "source": [
    "**Task**\n",
    "\n",
    "1. Compare the unbiased variance and standard deviation of the population \n",
    "2. Compute the sample variance for each sample.\n",
    "3. Compute the sample standard deviation for each sample\n",
    "\n",
    "`population  <-  c(0, 3, 6)`\n",
    "\n",
    "`samples  <-  list(c(0,3), c(0,6),  \n",
    "               c(3,0), c(3,6),\n",
    "               c(6,0), c(6,3))` # possible samples of size n=2\n",
    "\n",
    "**Answer**\n",
    "\n",
    "`variance <- function(vector) {\n",
    "    distances  <-  (vector - mean(vector))**2 \n",
    "    sum(distances) / length(distances)\n",
    "}`\n",
    "\n",
    "`standard_deviation <- function(vector) {\n",
    "    distances  <-  (vector - mean(vector))**2 \n",
    "    sqrt(sum(distances) / length(distances) )\n",
    "}`\n",
    "\n",
    "`population_var  <-  variance(population)\n",
    "population_std  <-  standard_deviation(population)`\n",
    "\n",
    "`st_devs  <-  purrr::map_dbl(samples,sd)\n",
    "variances  <-  purrr::map_dbl(samples,var)`\n",
    "\n",
    "`mean_std  <-  mean(st_devs)\n",
    "mean_var  <-  mean(variances)`\n",
    "\n",
    "`equal_stdev  <-  population_std == mean_std\n",
    "equal_var  <-  population_var == mean_var`"
   ]
  },
  {
   "cell_type": "code",
   "execution_count": null,
   "metadata": {},
   "outputs": [],
   "source": []
  }
 ],
 "metadata": {
  "kernelspec": {
   "display_name": "Python 3",
   "language": "python",
   "name": "python3"
  },
  "language_info": {
   "codemirror_mode": {
    "name": "ipython",
    "version": 3
   },
   "file_extension": ".py",
   "mimetype": "text/x-python",
   "name": "python",
   "nbconvert_exporter": "python",
   "pygments_lexer": "ipython3",
   "version": "3.7.6"
  }
 },
 "nbformat": 4,
 "nbformat_minor": 4
}
